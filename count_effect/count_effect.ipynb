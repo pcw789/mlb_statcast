{
 "cells": [
  {
   "cell_type": "code",
   "execution_count": 1,
   "metadata": {},
   "outputs": [],
   "source": [
    "import pybaseball as pyb\n",
    "import pandas as pd \n",
    "import numpy as np \n",
    "import matplotlib.pyplot as plt \n",
    "import matplotlib.colors as colors\n",
    "import seaborn as sns\n",
    "import warnings\n",
    "warnings.filterwarnings('ignore')\n",
    "\n",
    "pd.set_option('display.max_columns', None)"
   ]
  },
  {
   "cell_type": "code",
   "execution_count": 53,
   "metadata": {},
   "outputs": [],
   "source": [
    "import matplotlib\n",
    "\n",
    "matplotlib.rcParams['font.family'] ='Malgun Gothic'\n",
    "\n",
    "matplotlib.rcParams['axes.unicode_minus'] =False"
   ]
  },
  {
   "cell_type": "markdown",
   "metadata": {},
   "source": [
    "# Count Effect\n",
    "\n",
    "스트라이크가 3개가 되면 아웃이 되고, 볼이 4개가 되면 출루한다. 스트라이크, 볼의 카운트가 채워질수록 타석에 어떤 영향을 미치는지 분석해보았다. 21시즌 MLB Statcast 데이터를 활용하였다."
   ]
  },
  {
   "cell_type": "code",
   "execution_count": 2,
   "metadata": {
    "scrolled": true
   },
   "outputs": [],
   "source": [
    "mlb_21=pd.read_csv('mlb_21.csv').drop('Unnamed: 0', axis=1)"
   ]
  },
  {
   "cell_type": "markdown",
   "metadata": {},
   "source": [
    "## 카운트별 Expected Run Value"
   ]
  },
  {
   "cell_type": "markdown",
   "metadata": {},
   "source": [
    "카운트별 기대 Run Value를 계산하였다. 이전에 계산하였던 상황(아웃카운트와 주자 상황)에 대한 Run Expectancy(RE24)를 계산했던 것과 같은 계산법으로 계산하였다. 이닝 전후의 득점 차이 대신 타석 전후의 Run Value 차이를 계산하여, 각 카운트에서의 평균 기대 Run Value를 계산하였다. 계산된 각 카운트별 기대 Run Value를 시각화하여 투수에게 유리한 카운트(기대 Run Value 음수), 타자에게 유리한 카운트(기대 Run Value 양수)를 구분하였다."
   ]
  },
  {
   "cell_type": "code",
   "execution_count": 3,
   "metadata": {},
   "outputs": [],
   "source": [
    "event_21 = mlb_21[mlb_21['events'].notnull()]"
   ]
  },
  {
   "cell_type": "code",
   "execution_count": 37,
   "metadata": {},
   "outputs": [],
   "source": [
    "def calculation(event):\n",
    "    total_game = pd.DataFrame()\n",
    "    game_id = np.array(event['game_pk'].unique())\n",
    "    for i in game_id:\n",
    "        game = event[event['game_pk']==i]\n",
    "        # 타석 순으로 정리\n",
    "        game = game.sort_values(by='at_bat_number')\n",
    "\n",
    "        # Start에서\n",
    "        # 1B, 2B, 3B에 주자가 없을 경우, 0으로\n",
    "        # 1B, 2B, 3B가 주자가 있을 경우, 1으로\n",
    "        game['Start1'] = np.where(game['on_1b'].isnull(),0,1)\n",
    "        game['Start2'] = np.where(game['on_2b'].isnull(),0,1)\n",
    "        game['Start3'] = np.where(game['on_3b'].isnull(),0,1)\n",
    "\n",
    "        # Start 주자 상황과 아웃카운트 병합\n",
    "        game['Start_State'] = (game['Start1'].astype(str) + game['Start2'].astype(str) + game['Start3'].astype(str)+\" \" + game['outs_when_up'].astype(str))\n",
    "\n",
    "\n",
    "        # End에서\n",
    "        # 아웃카운트 계산 (이닝이 종료되었을 경우 3)\n",
    "        game['end_out'] = game['outs_when_up'].shift(-1)\n",
    "        game['end_out'] = np.where(game['end_out'].isnull(), 3, game['end_out'])\n",
    "        game['end_out'] = np.where(((game['end_out']==0) & (game['outs_when_up']!=0)), 3, game['end_out'])\n",
    "        game['end_out'] = game['end_out'].astype('int')\n",
    "\n",
    "        # End에서\n",
    "        # 1B, 2B, 3B에 주자가 없을 경우, 0으로\n",
    "        # 1B, 2B, 3B가 주자가 있을 경우, 1으로\n",
    "        game['end_1'] = game['Start1'].shift(-1)\n",
    "        game['end_1'] = np.where((game['end_1'].isnull())|(game['end_out']==3), 0, game['end_1'])\n",
    "        game['end_2'] = game['Start2'].shift(-1)\n",
    "        game['end_2'] = np.where((game['end_2'].isnull())|(game['end_out']==3), 0, game['end_2'])\n",
    "        game['end_3'] = game['Start3'].shift(-1)\n",
    "        game['end_3'] = np.where((game['end_3'].isnull())|(game['end_out']==3), 0, game['end_3'])\n",
    "        game[['end_1', 'end_2', 'end_3']]= game[['end_1', 'end_2', 'end_3']].astype('int')\n",
    "\n",
    "        # End 주자 상황과 아웃카운트 병합\n",
    "        game['End_State'] = (game['end_1'].astype(str) + game['end_2'].astype(str) + game['end_3'].astype(str)+\" \" + game['end_out'].astype(str))\n",
    "\n",
    "\n",
    "        # 이닝당 득점한 점수 계산\n",
    "        score = game.groupby(['inning', 'inning_topbot'])['bat_score'].max().reset_index().rename(columns={'bat_score': 'inning_score'})\n",
    "        game = pd.merge(game, score, on=['inning', 'inning_topbot'])\n",
    "\n",
    "        # 9회말 끝내기는 아웃카운트에 상관없이 경기가 끝나서 3아웃까지 채우지 않고도 경기가 끝나버린다.\n",
    "        # 3아웃을 기준으로 측정한 run_expectancy에 영향이 가기 때문에 제외한다.\n",
    "        if (game.iloc[-1]['inning_topbot']=='Bot') & (game.iloc[-1]['post_bat_score']>game.iloc[-1]['post_fld_score']):\n",
    "            game.drop(game[(game['inning']==game['inning'].max()) & (game['inning_topbot']=='Bot')].index)\n",
    "\n",
    "        # 현재 상황에서 이닝이 종료될때 까지의 득점 계산\n",
    "        game['futureRun'] = game['inning_score'] - game['bat_score']\n",
    "\n",
    "\n",
    "        # 모든 경기 데이터 병합\n",
    "        total_game = pd.concat([total_game, game])\n",
    "\n",
    "    return total_game"
   ]
  },
  {
   "cell_type": "code",
   "execution_count": 38,
   "metadata": {},
   "outputs": [],
   "source": [
    "df_21 = calculation(event_21)"
   ]
  },
  {
   "cell_type": "code",
   "execution_count": 40,
   "metadata": {},
   "outputs": [],
   "source": [
    "def run_value(df):\n",
    "    start_RunExp = df.groupby(['Start_State'])['futureRun'].mean().reset_index().rename(columns={'futureRun': 'Start_RE'})\n",
    "    start_RunExp = start_RunExp.append({'Start_State': '000 3', 'Start_RE': 0}, ignore_index=True)\n",
    "    end_RunExp = start_RunExp.rename(columns={'Start_State':'End_State', 'Start_RE':'End_RE'})\n",
    "\n",
    "    df = pd.merge(df, start_RunExp, on=['Start_State'], how='left')\n",
    "    df = pd.merge(df, end_RunExp, on=['End_State'], how='left')\n",
    "\n",
    "\n",
    "    # Run Value: 타자의 득점 + (End State와 Start State의 득점 기대값 차이)\n",
    "    # 1득점당 Run Value는 1로 계산\n",
    "    # 득점 = post_bat_score - bat_score\n",
    "    # 타석 후의 득점 기대값의 변화량 (End_RE - Start_RE)\n",
    "    df['Start_RE'] = df['Start_RE'].astype('float32')\n",
    "    df['End_RE'] = df['End_RE'].astype('float32')\n",
    "    df['Run_Value'] = df['post_bat_score'] - df['bat_score'] + df['End_RE'] - df['Start_RE']\n",
    "    \n",
    "    return df"
   ]
  },
  {
   "cell_type": "code",
   "execution_count": 41,
   "metadata": {},
   "outputs": [],
   "source": [
    "rv21 = run_value(df_21)"
   ]
  },
  {
   "cell_type": "code",
   "execution_count": 43,
   "metadata": {},
   "outputs": [],
   "source": [
    "rv_21 = rv21[['game_date', 'batter', 'pitcher', 'at_bat_number', 'Start_State', 'End_State', 'Start_RE', 'Run_Value']]\n",
    "mlb21 = pd.merge(mlb_21, rv_21, on=['game_date', 'batter', 'pitcher', 'at_bat_number'], how='left')\n",
    "mlb21 = mlb21[mlb21['balls']!=4]\n",
    "mlb21['count'] = mlb21['balls'].astype('str') +'-'+ mlb21['strikes'].astype('str')"
   ]
  },
  {
   "cell_type": "code",
   "execution_count": 44,
   "metadata": {},
   "outputs": [
    {
     "data": {
      "text/html": [
       "<div>\n",
       "<style scoped>\n",
       "    .dataframe tbody tr th:only-of-type {\n",
       "        vertical-align: middle;\n",
       "    }\n",
       "\n",
       "    .dataframe tbody tr th {\n",
       "        vertical-align: top;\n",
       "    }\n",
       "\n",
       "    .dataframe thead th {\n",
       "        text-align: right;\n",
       "    }\n",
       "</style>\n",
       "<table border=\"1\" class=\"dataframe\">\n",
       "  <thead>\n",
       "    <tr style=\"text-align: right;\">\n",
       "      <th></th>\n",
       "      <th>count</th>\n",
       "      <th>RV_exp</th>\n",
       "    </tr>\n",
       "  </thead>\n",
       "  <tbody>\n",
       "    <tr>\n",
       "      <th>0</th>\n",
       "      <td>0-0</td>\n",
       "      <td>-0.000787</td>\n",
       "    </tr>\n",
       "    <tr>\n",
       "      <th>1</th>\n",
       "      <td>0-1</td>\n",
       "      <td>-0.041986</td>\n",
       "    </tr>\n",
       "    <tr>\n",
       "      <th>2</th>\n",
       "      <td>0-2</td>\n",
       "      <td>-0.099830</td>\n",
       "    </tr>\n",
       "    <tr>\n",
       "      <th>3</th>\n",
       "      <td>1-0</td>\n",
       "      <td>0.034602</td>\n",
       "    </tr>\n",
       "    <tr>\n",
       "      <th>4</th>\n",
       "      <td>1-1</td>\n",
       "      <td>-0.013077</td>\n",
       "    </tr>\n",
       "    <tr>\n",
       "      <th>5</th>\n",
       "      <td>1-2</td>\n",
       "      <td>-0.078098</td>\n",
       "    </tr>\n",
       "    <tr>\n",
       "      <th>6</th>\n",
       "      <td>2-0</td>\n",
       "      <td>0.099610</td>\n",
       "    </tr>\n",
       "    <tr>\n",
       "      <th>7</th>\n",
       "      <td>2-1</td>\n",
       "      <td>0.037483</td>\n",
       "    </tr>\n",
       "    <tr>\n",
       "      <th>8</th>\n",
       "      <td>2-2</td>\n",
       "      <td>-0.036956</td>\n",
       "    </tr>\n",
       "    <tr>\n",
       "      <th>9</th>\n",
       "      <td>3-0</td>\n",
       "      <td>0.204604</td>\n",
       "    </tr>\n",
       "    <tr>\n",
       "      <th>10</th>\n",
       "      <td>3-1</td>\n",
       "      <td>0.145500</td>\n",
       "    </tr>\n",
       "    <tr>\n",
       "      <th>11</th>\n",
       "      <td>3-2</td>\n",
       "      <td>0.056870</td>\n",
       "    </tr>\n",
       "  </tbody>\n",
       "</table>\n",
       "</div>"
      ],
      "text/plain": [
       "   count    RV_exp\n",
       "0    0-0 -0.000787\n",
       "1    0-1 -0.041986\n",
       "2    0-2 -0.099830\n",
       "3    1-0  0.034602\n",
       "4    1-1 -0.013077\n",
       "5    1-2 -0.078098\n",
       "6    2-0  0.099610\n",
       "7    2-1  0.037483\n",
       "8    2-2 -0.036956\n",
       "9    3-0  0.204604\n",
       "10   3-1  0.145500\n",
       "11   3-2  0.056870"
      ]
     },
     "execution_count": 44,
     "metadata": {},
     "output_type": "execute_result"
    }
   ],
   "source": [
    "# 카운트별 run value 계산\n",
    "rv_by_count = mlb21.groupby('count')['Run_Value'].mean().reset_index().rename(columns={'Run_Value': 'RV_exp'})\n",
    "rv_by_count"
   ]
  },
  {
   "cell_type": "code",
   "execution_count": 45,
   "metadata": {},
   "outputs": [
    {
     "data": {
      "image/png": "[encoded data removed]",
      "text/plain": [
       "<Figure size 432x288 with 2 Axes>"
      ]
     },
     "metadata": {
      "needs_background": "light"
     },
     "output_type": "display_data"
    }
   ],
   "source": [
    "table1 = pd.DataFrame(np.array([rv_by_count['RV_exp'][0:3], rv_by_count['RV_exp'][3:6], rv_by_count['RV_exp'][6:9], rv_by_count['RV_exp'][9:12]]),\n",
    "            columns=['0','1','2'], index=['0','1','2','3'], dtype='float')\n",
    "\n",
    "sns.heatmap(table1.iloc[::-1], annot=True, cmap='coolwarm', vmin=-0.2, vmax=0.2)\n",
    "plt.title(\"Expected Run Value by Count\", size=15)\n",
    "plt.xlabel('Strikes')\n",
    "plt.ylabel('Balls')\n",
    "plt.show()"
   ]
  },
  {
   "cell_type": "markdown",
   "metadata": {},
   "source": [
    "위 Heatmap을 보면 카운트에 따라 Run Value 기대값이 차이가 나는 것을 확인할 수 있다. 볼 카운트가 높아질수록 Run Value 기대값이 커지고, 반대로 스트라이크 카운트가 높아질수록 Run Value 기대값이 낮아진다. Run Value 기대값 0을 기준으로 0보다 큰 카운트는 타자에게 유리한 카운트, 0보다 작은 카운트는 투수에게 유리한 카운트로 나눌 수 있다."
   ]
  },
  {
   "cell_type": "markdown",
   "metadata": {},
   "source": [
    "- 투수에게 유리한 카운트: 0-2, 1-2, 0-1, 2-2   \n",
    "- 타자에게 매우 유리한 카운트: 3-0, 3-1, 2-0   \n",
    "- 타자에게 유리한 카운트: 1-0, 2-1, 3-2   \n",
    "- 중립 카운트: 0-0, 1-1"
   ]
  },
  {
   "cell_type": "code",
   "execution_count": 46,
   "metadata": {},
   "outputs": [],
   "source": [
    "neutral = ['0-0', '1-1']\n",
    "ext_hitter = ['3-0', '3-1', '2-0']\n",
    "hitter = ['1-0', '2-1', '3-2']\n",
    "pitcher = ['0-2', '1-2', '0-1', '2-2']"
   ]
  },
  {
   "cell_type": "markdown",
   "metadata": {},
   "source": [
    "----"
   ]
  },
  {
   "cell_type": "code",
   "execution_count": 47,
   "metadata": {},
   "outputs": [],
   "source": [
    "# 스윙, 헛스윙 구분\n",
    "swing = ['hit_into_play', 'foul', 'swinging_strike_blocked', 'swinging_strike', 'foul_tip', 'foul_bunt', 'missed_bunt', 'bunt_foul_tip', 'foul_pitchout']\n",
    "miss = ['swinging_strike_blocked', 'swinging_strike', 'foul_tip', 'missed_bunt', 'bunt_foul_tip']"
   ]
  },
  {
   "cell_type": "code",
   "execution_count": 48,
   "metadata": {},
   "outputs": [],
   "source": [
    "mlb21['swing'] = np.where(mlb21['description'].isin(swing),1,0)\n",
    "mlb21['miss'] = np.where(mlb21['description'].isin(miss),1,0)\n",
    "swing_miss = mlb21.groupby(['count', 'strikes', 'balls']).agg({'pitch_type': 'count', 'swing': 'sum', 'miss': 'sum'}).reset_index().rename(columns={'pitch_type': 'total'})"
   ]
  },
  {
   "cell_type": "code",
   "execution_count": 49,
   "metadata": {},
   "outputs": [
    {
     "data": {
      "text/html": [
       "<div>\n",
       "<style scoped>\n",
       "    .dataframe tbody tr th:only-of-type {\n",
       "        vertical-align: middle;\n",
       "    }\n",
       "\n",
       "    .dataframe tbody tr th {\n",
       "        vertical-align: top;\n",
       "    }\n",
       "\n",
       "    .dataframe thead th {\n",
       "        text-align: right;\n",
       "    }\n",
       "</style>\n",
       "<table border=\"1\" class=\"dataframe\">\n",
       "  <thead>\n",
       "    <tr style=\"text-align: right;\">\n",
       "      <th></th>\n",
       "      <th>count</th>\n",
       "      <th>strikes</th>\n",
       "      <th>balls</th>\n",
       "      <th>total</th>\n",
       "      <th>swing</th>\n",
       "      <th>miss</th>\n",
       "      <th>swing_per</th>\n",
       "      <th>miss_per</th>\n",
       "    </tr>\n",
       "  </thead>\n",
       "  <tbody>\n",
       "    <tr>\n",
       "      <th>0</th>\n",
       "      <td>0-0</td>\n",
       "      <td>0</td>\n",
       "      <td>0</td>\n",
       "      <td>181504</td>\n",
       "      <td>55230</td>\n",
       "      <td>14850</td>\n",
       "      <td>0.304291</td>\n",
       "      <td>0.268876</td>\n",
       "    </tr>\n",
       "    <tr>\n",
       "      <th>1</th>\n",
       "      <td>0-1</td>\n",
       "      <td>1</td>\n",
       "      <td>0</td>\n",
       "      <td>90589</td>\n",
       "      <td>44564</td>\n",
       "      <td>12664</td>\n",
       "      <td>0.491936</td>\n",
       "      <td>0.284176</td>\n",
       "    </tr>\n",
       "    <tr>\n",
       "      <th>2</th>\n",
       "      <td>0-2</td>\n",
       "      <td>2</td>\n",
       "      <td>0</td>\n",
       "      <td>48035</td>\n",
       "      <td>24893</td>\n",
       "      <td>7300</td>\n",
       "      <td>0.518226</td>\n",
       "      <td>0.293255</td>\n",
       "    </tr>\n",
       "    <tr>\n",
       "      <th>3</th>\n",
       "      <td>1-0</td>\n",
       "      <td>0</td>\n",
       "      <td>1</td>\n",
       "      <td>70887</td>\n",
       "      <td>30166</td>\n",
       "      <td>7986</td>\n",
       "      <td>0.425551</td>\n",
       "      <td>0.264735</td>\n",
       "    </tr>\n",
       "    <tr>\n",
       "      <th>4</th>\n",
       "      <td>1-1</td>\n",
       "      <td>1</td>\n",
       "      <td>1</td>\n",
       "      <td>71342</td>\n",
       "      <td>38367</td>\n",
       "      <td>10183</td>\n",
       "      <td>0.537790</td>\n",
       "      <td>0.265410</td>\n",
       "    </tr>\n",
       "    <tr>\n",
       "      <th>5</th>\n",
       "      <td>1-2</td>\n",
       "      <td>2</td>\n",
       "      <td>1</td>\n",
       "      <td>68225</td>\n",
       "      <td>39222</td>\n",
       "      <td>10873</td>\n",
       "      <td>0.574892</td>\n",
       "      <td>0.277217</td>\n",
       "    </tr>\n",
       "    <tr>\n",
       "      <th>6</th>\n",
       "      <td>2-0</td>\n",
       "      <td>0</td>\n",
       "      <td>2</td>\n",
       "      <td>24336</td>\n",
       "      <td>10349</td>\n",
       "      <td>2433</td>\n",
       "      <td>0.425255</td>\n",
       "      <td>0.235095</td>\n",
       "    </tr>\n",
       "    <tr>\n",
       "      <th>7</th>\n",
       "      <td>2-1</td>\n",
       "      <td>1</td>\n",
       "      <td>2</td>\n",
       "      <td>37233</td>\n",
       "      <td>21577</td>\n",
       "      <td>5205</td>\n",
       "      <td>0.579513</td>\n",
       "      <td>0.241229</td>\n",
       "    </tr>\n",
       "    <tr>\n",
       "      <th>8</th>\n",
       "      <td>2-2</td>\n",
       "      <td>2</td>\n",
       "      <td>2</td>\n",
       "      <td>58656</td>\n",
       "      <td>37902</td>\n",
       "      <td>9144</td>\n",
       "      <td>0.646174</td>\n",
       "      <td>0.241254</td>\n",
       "    </tr>\n",
       "    <tr>\n",
       "      <th>9</th>\n",
       "      <td>3-0</td>\n",
       "      <td>0</td>\n",
       "      <td>3</td>\n",
       "      <td>7713</td>\n",
       "      <td>851</td>\n",
       "      <td>152</td>\n",
       "      <td>0.110333</td>\n",
       "      <td>0.178613</td>\n",
       "    </tr>\n",
       "    <tr>\n",
       "      <th>10</th>\n",
       "      <td>3-1</td>\n",
       "      <td>1</td>\n",
       "      <td>3</td>\n",
       "      <td>15690</td>\n",
       "      <td>8593</td>\n",
       "      <td>1769</td>\n",
       "      <td>0.547674</td>\n",
       "      <td>0.205865</td>\n",
       "    </tr>\n",
       "    <tr>\n",
       "      <th>11</th>\n",
       "      <td>3-2</td>\n",
       "      <td>2</td>\n",
       "      <td>3</td>\n",
       "      <td>35275</td>\n",
       "      <td>25138</td>\n",
       "      <td>5019</td>\n",
       "      <td>0.712629</td>\n",
       "      <td>0.199658</td>\n",
       "    </tr>\n",
       "  </tbody>\n",
       "</table>\n",
       "</div>"
      ],
      "text/plain": [
       "   count  strikes  balls   total  swing   miss  swing_per  miss_per\n",
       "0    0-0        0      0  181504  55230  14850   0.304291  0.268876\n",
       "1    0-1        1      0   90589  44564  12664   0.491936  0.284176\n",
       "2    0-2        2      0   48035  24893   7300   0.518226  0.293255\n",
       "3    1-0        0      1   70887  30166   7986   0.425551  0.264735\n",
       "4    1-1        1      1   71342  38367  10183   0.537790  0.265410\n",
       "5    1-2        2      1   68225  39222  10873   0.574892  0.277217\n",
       "6    2-0        0      2   24336  10349   2433   0.425255  0.235095\n",
       "7    2-1        1      2   37233  21577   5205   0.579513  0.241229\n",
       "8    2-2        2      2   58656  37902   9144   0.646174  0.241254\n",
       "9    3-0        0      3    7713    851    152   0.110333  0.178613\n",
       "10   3-1        1      3   15690   8593   1769   0.547674  0.205865\n",
       "11   3-2        2      3   35275  25138   5019   0.712629  0.199658"
      ]
     },
     "execution_count": 49,
     "metadata": {},
     "output_type": "execute_result"
    }
   ],
   "source": [
    "swing_miss['swing_per'] = swing_miss['swing']/swing_miss['total']\n",
    "swing_miss['miss_per'] = swing_miss['miss']/swing_miss['swing']\n",
    "swing_miss"
   ]
  },
  {
   "cell_type": "code",
   "execution_count": 70,
   "metadata": {},
   "outputs": [],
   "source": [
    "pitcher_favor = ['0-2', '1-2', '0-1', '2-2']\n",
    "batter_favor = ['3-0', '3-1', '2-0']\n",
    "batter_few = ['1-0', '2-1', '3-2']\n",
    "neutral = ['0-0', '1-1']\n",
    "\n",
    "swing_miss['favor'] = np.where(swing_miss['count'].isin(pitcher_favor), '투수 유리', '')\n",
    "swing_miss['favor'] = np.where(swing_miss['count'].isin(batter_favor), '타자 매우 유리', swing_miss['favor'])\n",
    "swing_miss['favor'] = np.where(swing_miss['count'].isin(batter_few), '타자 유리', swing_miss['favor'])\n",
    "swing_miss['favor'] = np.where(swing_miss['count'].isin(neutral), '중립', swing_miss['favor'])"
   ]
  },
  {
   "cell_type": "code",
   "execution_count": 55,
   "metadata": {},
   "outputs": [
    {
     "data": {
      "image/png": "[encoded data removed]",
      "text/plain": [
       "<Figure size 360x360 with 1 Axes>"
      ]
     },
     "metadata": {
      "needs_background": "light"
     },
     "output_type": "display_data"
    }
   ],
   "source": [
    "# 카운트별 스윙 확률, 헛스윙 비율 시각화\n",
    "\n",
    "ax = sns.lmplot('swing_per', 'miss_per', data=swing_miss, hue='favor', fit_reg=False, size=5, aspect=1, legend=False)\n",
    "def label_point(x, y, val, ax):\n",
    "    a = pd.concat({'x': x, 'y': y, 'val': val}, axis=1)\n",
    "    for i, point in a.iterrows():\n",
    "        ax.text(point['x']+0.01, point['y'], str(point['val']))\n",
    "label_point(swing_miss['swing_per'], swing_miss['miss_per'], swing_miss['count'], plt.gca())\n",
    "plt.ylim(0.15,0.3)\n",
    "plt.legend(bbox_to_anchor=(1.04,1), loc=\"upper left\", title='stikes')\n",
    "plt.show()"
   ]
  },
  {
   "cell_type": "code",
   "execution_count": 56,
   "metadata": {},
   "outputs": [
    {
     "data": {
      "image/png": "[encoded data removed]",
      "text/plain": [
       "<Figure size 360x360 with 1 Axes>"
      ]
     },
     "metadata": {
      "needs_background": "light"
     },
     "output_type": "display_data"
    }
   ],
   "source": [
    "ax = sns.lmplot('swing_per', 'miss_per', data=swing_miss, hue='strikes', fit_reg=False, size=5, aspect=1, legend=False)\n",
    "def label_point(x, y, val, ax):\n",
    "    a = pd.concat({'x': x, 'y': y, 'val': val}, axis=1)\n",
    "    for i, point in a.iterrows():\n",
    "        ax.text(point['x']+0.01, point['y'], str(point['val']))\n",
    "label_point(swing_miss['swing_per'], swing_miss['miss_per'], swing_miss['count'], plt.gca())\n",
    "plt.ylim(0.15,0.3)\n",
    "plt.legend(bbox_to_anchor=(1.04,1), loc=\"upper left\", title='stikes')\n",
    "plt.show()"
   ]
  },
  {
   "cell_type": "code",
   "execution_count": 57,
   "metadata": {},
   "outputs": [
    {
     "data": {
      "image/png": "[encoded data removed]",
      "text/plain": [
       "<Figure size 360x360 with 1 Axes>"
      ]
     },
     "metadata": {
      "needs_background": "light"
     },
     "output_type": "display_data"
    }
   ],
   "source": [
    "ax = sns.lmplot('swing_per', 'miss_per', data=swing_miss, hue='balls', fit_reg=False, size=5, aspect=1, legend=False)\n",
    "def label_point(x, y, val, ax):\n",
    "    a = pd.concat({'x': x, 'y': y, 'val': val}, axis=1)\n",
    "    for i, point in a.iterrows():\n",
    "        ax.text(point['x']+0.01, point['y'], str(point['val']))\n",
    "label_point(swing_miss['swing_per'], swing_miss['miss_per'], swing_miss['count'], plt.gca())\n",
    "plt.ylim(0.15,0.3)\n",
    "plt.legend(bbox_to_anchor=(1.04,1), loc=\"upper left\", title='balls')\n",
    "plt.show()"
   ]
  },
  {
   "cell_type": "code",
   "execution_count": 58,
   "metadata": {},
   "outputs": [],
   "source": [
    "# 타자 이름 추가\n",
    "player_ids = np.array(mlb21['batter'])\n",
    "batter = pyb.playerid_reverse_lookup(player_ids, key_type='mlbam')\n",
    "batter['batter_name'] = batter['name_first'] + ' ' + batter['name_last']\n",
    "batter_name = batter[['batter_name', 'key_mlbam']].rename(columns={'key_mlbam': 'batter'})\n",
    "mlb21 = pd.merge(mlb21, batter_name, on='batter')"
   ]
  },
  {
   "cell_type": "code",
   "execution_count": 59,
   "metadata": {},
   "outputs": [],
   "source": [
    "# 후안 소토\n",
    "soto = mlb21[mlb21['batter_name']=='juan soto']\n",
    "soto_count = soto.groupby(['count', 'strikes', 'balls']).agg({'pitch_type': 'count', 'swing': 'sum', 'miss': 'sum'}).reset_index().rename(columns={'pitch_type': 'total'})\n",
    "soto_count['swing_per'] = soto_count['swing']/soto_count['total']\n",
    "soto_count['miss_per'] = soto_count['miss']/soto_count['swing']\n",
    "soto_count['type'] = 'juan soto'"
   ]
  },
  {
   "cell_type": "code",
   "execution_count": 60,
   "metadata": {},
   "outputs": [],
   "source": [
    "# 브라이스 하퍼\n",
    "harper = mlb21[mlb21['batter_name']=='bryce harper']\n",
    "haper_count = harper.groupby(['count', 'strikes', 'balls']).agg({'pitch_type': 'count', 'swing': 'sum', 'miss': 'sum'}).reset_index().rename(columns={'pitch_type': 'total'})\n",
    "haper_count['swing_per'] = haper_count['swing']/haper_count['total']\n",
    "haper_count['miss_per'] = haper_count['miss']/haper_count['swing']\n",
    "haper_count['type'] = 'bryce harper'"
   ]
  },
  {
   "cell_type": "code",
   "execution_count": 61,
   "metadata": {},
   "outputs": [],
   "source": [
    "# 오타니 쇼헤이\n",
    "ohtani = mlb21[mlb21['batter_name']=='shohei ohtani']\n",
    "ohtani_count = ohtani.groupby(['count', 'strikes', 'balls']).agg({'pitch_type': 'count', 'swing': 'sum', 'miss': 'sum'}).reset_index().rename(columns={'pitch_type': 'total'})\n",
    "ohtani_count['swing_per'] = ohtani_count['swing']/ohtani_count['total']\n",
    "ohtani_count['miss_per'] = ohtani_count['miss']/ohtani_count['swing']\n",
    "ohtani_count['type'] = 'shohei ohtani'\n",
    "\n",
    "swing_miss['type'] = 'avg'\n",
    "\n",
    "comp = pd.concat([swing_miss, ohtani_count, soto_count])"
   ]
  },
  {
   "cell_type": "code",
   "execution_count": 62,
   "metadata": {},
   "outputs": [
    {
     "data": {
      "image/png": "[encoded data removed]",
      "text/plain": [
       "<Figure size 432x432 with 1 Axes>"
      ]
     },
     "metadata": {
      "needs_background": "light"
     },
     "output_type": "display_data"
    }
   ],
   "source": [
    "# 선수별 스윙, 헛스윙 비율 확인\n",
    "\n",
    "ax = sns.lmplot('swing_per', 'miss_per', data=comp, hue='type', palette=['steelblue', 'darkorange', 'firebrick'], fit_reg=False, size=6, aspect=1, legend=False)\n",
    "def label_point(x, y, val, ax):\n",
    "    a = pd.concat({'x': x, 'y': y, 'val': val}, axis=1)\n",
    "    for i, point in a.iterrows():\n",
    "        ax.text(point['x']+0.01, point['y'], str(point['val']))\n",
    "label_point(comp['swing_per'], comp['miss_per'], comp['count'], plt.gca())\n",
    "plt.legend(bbox_to_anchor=(1.04,1), loc=\"upper left\")\n",
    "plt.show()"
   ]
  },
  {
   "cell_type": "code",
   "execution_count": 63,
   "metadata": {},
   "outputs": [],
   "source": [
    "# 구종 구분\n",
    "fastball = ['4-Seam Fastball', 'Cutter', 'Sinker', 'Fastball']\n",
    "offspeed = ['Split-Finger', 'Changeup', 'Screwball']\n",
    "breaking = ['Slider', 'Curveball', 'Knuckle Curve', 'Knuckleball', 'Eephus']\n",
    "\n",
    "mlb21['fastball'] = np.where(mlb21['pitch_name'].isin(fastball), 1, 0)\n",
    "mlb21['offspeed'] = np.where(mlb21['pitch_name'].isin(offspeed), 1, 0)\n",
    "mlb21['breaking'] = np.where(mlb21['pitch_name'].isin(breaking), 1, 0)"
   ]
  },
  {
   "cell_type": "code",
   "execution_count": 64,
   "metadata": {},
   "outputs": [
    {
     "data": {
      "text/html": [
       "<div>\n",
       "<style scoped>\n",
       "    .dataframe tbody tr th:only-of-type {\n",
       "        vertical-align: middle;\n",
       "    }\n",
       "\n",
       "    .dataframe tbody tr th {\n",
       "        vertical-align: top;\n",
       "    }\n",
       "\n",
       "    .dataframe thead th {\n",
       "        text-align: right;\n",
       "    }\n",
       "</style>\n",
       "<table border=\"1\" class=\"dataframe\">\n",
       "  <thead>\n",
       "    <tr style=\"text-align: right;\">\n",
       "      <th></th>\n",
       "      <th>count</th>\n",
       "      <th>strikes</th>\n",
       "      <th>balls</th>\n",
       "      <th>total</th>\n",
       "      <th>fastball</th>\n",
       "      <th>offspeed</th>\n",
       "      <th>breaking</th>\n",
       "      <th>fastball_per</th>\n",
       "      <th>nonfast_per</th>\n",
       "    </tr>\n",
       "  </thead>\n",
       "  <tbody>\n",
       "    <tr>\n",
       "      <th>0</th>\n",
       "      <td>0-0</td>\n",
       "      <td>0</td>\n",
       "      <td>0</td>\n",
       "      <td>181504</td>\n",
       "      <td>111889</td>\n",
       "      <td>15206</td>\n",
       "      <td>54409</td>\n",
       "      <td>0.616455</td>\n",
       "      <td>0.383545</td>\n",
       "    </tr>\n",
       "    <tr>\n",
       "      <th>1</th>\n",
       "      <td>0-1</td>\n",
       "      <td>1</td>\n",
       "      <td>0</td>\n",
       "      <td>90589</td>\n",
       "      <td>47652</td>\n",
       "      <td>13931</td>\n",
       "      <td>29006</td>\n",
       "      <td>0.526024</td>\n",
       "      <td>0.473976</td>\n",
       "    </tr>\n",
       "    <tr>\n",
       "      <th>2</th>\n",
       "      <td>0-2</td>\n",
       "      <td>2</td>\n",
       "      <td>0</td>\n",
       "      <td>48035</td>\n",
       "      <td>22718</td>\n",
       "      <td>6488</td>\n",
       "      <td>18829</td>\n",
       "      <td>0.472947</td>\n",
       "      <td>0.527053</td>\n",
       "    </tr>\n",
       "    <tr>\n",
       "      <th>3</th>\n",
       "      <td>1-0</td>\n",
       "      <td>0</td>\n",
       "      <td>1</td>\n",
       "      <td>70887</td>\n",
       "      <td>43716</td>\n",
       "      <td>10114</td>\n",
       "      <td>17057</td>\n",
       "      <td>0.616700</td>\n",
       "      <td>0.383300</td>\n",
       "    </tr>\n",
       "    <tr>\n",
       "      <th>4</th>\n",
       "      <td>1-1</td>\n",
       "      <td>1</td>\n",
       "      <td>1</td>\n",
       "      <td>71342</td>\n",
       "      <td>37752</td>\n",
       "      <td>12354</td>\n",
       "      <td>21236</td>\n",
       "      <td>0.529169</td>\n",
       "      <td>0.470831</td>\n",
       "    </tr>\n",
       "    <tr>\n",
       "      <th>5</th>\n",
       "      <td>1-2</td>\n",
       "      <td>2</td>\n",
       "      <td>1</td>\n",
       "      <td>68225</td>\n",
       "      <td>32324</td>\n",
       "      <td>10288</td>\n",
       "      <td>25613</td>\n",
       "      <td>0.473785</td>\n",
       "      <td>0.526215</td>\n",
       "    </tr>\n",
       "    <tr>\n",
       "      <th>6</th>\n",
       "      <td>2-0</td>\n",
       "      <td>0</td>\n",
       "      <td>2</td>\n",
       "      <td>24336</td>\n",
       "      <td>17722</td>\n",
       "      <td>2733</td>\n",
       "      <td>3881</td>\n",
       "      <td>0.728222</td>\n",
       "      <td>0.271778</td>\n",
       "    </tr>\n",
       "    <tr>\n",
       "      <th>7</th>\n",
       "      <td>2-1</td>\n",
       "      <td>1</td>\n",
       "      <td>2</td>\n",
       "      <td>37233</td>\n",
       "      <td>22899</td>\n",
       "      <td>5621</td>\n",
       "      <td>8713</td>\n",
       "      <td>0.615019</td>\n",
       "      <td>0.384981</td>\n",
       "    </tr>\n",
       "    <tr>\n",
       "      <th>8</th>\n",
       "      <td>2-2</td>\n",
       "      <td>2</td>\n",
       "      <td>2</td>\n",
       "      <td>58656</td>\n",
       "      <td>30168</td>\n",
       "      <td>9171</td>\n",
       "      <td>19317</td>\n",
       "      <td>0.514321</td>\n",
       "      <td>0.485679</td>\n",
       "    </tr>\n",
       "    <tr>\n",
       "      <th>9</th>\n",
       "      <td>3-0</td>\n",
       "      <td>0</td>\n",
       "      <td>3</td>\n",
       "      <td>7713</td>\n",
       "      <td>7341</td>\n",
       "      <td>144</td>\n",
       "      <td>228</td>\n",
       "      <td>0.951770</td>\n",
       "      <td>0.048230</td>\n",
       "    </tr>\n",
       "    <tr>\n",
       "      <th>10</th>\n",
       "      <td>3-1</td>\n",
       "      <td>1</td>\n",
       "      <td>3</td>\n",
       "      <td>15690</td>\n",
       "      <td>12328</td>\n",
       "      <td>1306</td>\n",
       "      <td>2056</td>\n",
       "      <td>0.785723</td>\n",
       "      <td>0.214277</td>\n",
       "    </tr>\n",
       "    <tr>\n",
       "      <th>11</th>\n",
       "      <td>3-2</td>\n",
       "      <td>2</td>\n",
       "      <td>3</td>\n",
       "      <td>35275</td>\n",
       "      <td>22396</td>\n",
       "      <td>4231</td>\n",
       "      <td>8648</td>\n",
       "      <td>0.634897</td>\n",
       "      <td>0.365103</td>\n",
       "    </tr>\n",
       "  </tbody>\n",
       "</table>\n",
       "</div>"
      ],
      "text/plain": [
       "   count  strikes  balls   total  fastball  offspeed  breaking  fastball_per  \\\n",
       "0    0-0        0      0  181504    111889     15206     54409      0.616455   \n",
       "1    0-1        1      0   90589     47652     13931     29006      0.526024   \n",
       "2    0-2        2      0   48035     22718      6488     18829      0.472947   \n",
       "3    1-0        0      1   70887     43716     10114     17057      0.616700   \n",
       "4    1-1        1      1   71342     37752     12354     21236      0.529169   \n",
       "5    1-2        2      1   68225     32324     10288     25613      0.473785   \n",
       "6    2-0        0      2   24336     17722      2733      3881      0.728222   \n",
       "7    2-1        1      2   37233     22899      5621      8713      0.615019   \n",
       "8    2-2        2      2   58656     30168      9171     19317      0.514321   \n",
       "9    3-0        0      3    7713      7341       144       228      0.951770   \n",
       "10   3-1        1      3   15690     12328      1306      2056      0.785723   \n",
       "11   3-2        2      3   35275     22396      4231      8648      0.634897   \n",
       "\n",
       "    nonfast_per  \n",
       "0      0.383545  \n",
       "1      0.473976  \n",
       "2      0.527053  \n",
       "3      0.383300  \n",
       "4      0.470831  \n",
       "5      0.526215  \n",
       "6      0.271778  \n",
       "7      0.384981  \n",
       "8      0.485679  \n",
       "9      0.048230  \n",
       "10     0.214277  \n",
       "11     0.365103  "
      ]
     },
     "execution_count": 64,
     "metadata": {},
     "output_type": "execute_result"
    }
   ],
   "source": [
    "pitch_type = mlb21.groupby(['count', 'strikes', 'balls']).agg({'pitch_type': 'count', 'fastball': 'sum', 'offspeed': 'sum', 'breaking': 'sum'}).reset_index().rename(columns={'pitch_type': 'total'})\n",
    "pitch_type['fastball_per'] = pitch_type['fastball']/pitch_type['total']\n",
    "pitch_type['nonfast_per'] = (pitch_type['offspeed']+pitch_type['breaking'])/pitch_type['total']\n",
    "pitch_type"
   ]
  },
  {
   "cell_type": "code",
   "execution_count": 65,
   "metadata": {},
   "outputs": [],
   "source": [
    "pitch_type['favor'] = np.where(pitch_type['count'].isin(pitcher_favor), '투수 유리', '')\n",
    "pitch_type['favor'] = np.where(pitch_type['count'].isin(batter_favor), '타자 매우 유리', pitch_type['favor'])\n",
    "pitch_type['favor'] = np.where(pitch_type['count'].isin(batter_few), '타자 유리', pitch_type['favor'])\n",
    "pitch_type['favor'] = np.where(pitch_type['count'].isin(neutral), '중립', pitch_type['favor'])"
   ]
  },
  {
   "cell_type": "code",
   "execution_count": 66,
   "metadata": {},
   "outputs": [
    {
     "data": {
      "image/png": "[encoded data removed]",
      "text/plain": [
       "<Figure size 576x360 with 1 Axes>"
      ]
     },
     "metadata": {
      "needs_background": "light"
     },
     "output_type": "display_data"
    }
   ],
   "source": [
    "# 카운트에 따른 패스트볼 확률 확인\n",
    "plt.figure(figsize=(8,5))\n",
    "sns.scatterplot(data=pitch_type, x='count', y='fastball_per', hue='favor')\n",
    "plt.legend(bbox_to_anchor=(1.04,1), loc=\"upper left\")\n",
    "plt.ylim(0.3, 1)\n",
    "plt.title(\"Fastball Probability by Count\")\n",
    "plt.show()"
   ]
  },
  {
   "cell_type": "code",
   "execution_count": 67,
   "metadata": {},
   "outputs": [],
   "source": [
    "# 오타니 데이터\n",
    "pitch_type_p = mlb21.groupby(['player_name', 'count', 'strikes', 'balls']).agg({'pitch_type': 'count', 'fastball': 'sum', 'offspeed': 'sum', 'breaking': 'sum'}).reset_index().rename(columns={'pitch_type': 'total'})\n",
    "ohtani = pitch_type_p[pitch_type_p['player_name']=='Ohtani, Shohei']\n",
    "ohtani['fastball_per'] = ohtani['fastball']/ohtani['total']\n",
    "ohtani['nonfast_per'] = (ohtani['offspeed']+ohtani['breaking'])/ohtani['total']\n",
    "ohtani['favor'] = np.where(ohtani['count'].isin(pitcher_favor), '투수 유리', '')\n",
    "ohtani['favor'] = np.where(ohtani['count'].isin(batter_favor), '타자 매우 유리', ohtani['favor'])\n",
    "ohtani['favor'] = np.where(ohtani['count'].isin(batter_few), '타자 유리', ohtani['favor'])\n",
    "ohtani['favor'] = np.where(ohtani['count'].isin(neutral), '중립', ohtani['favor'])"
   ]
  },
  {
   "cell_type": "code",
   "execution_count": 68,
   "metadata": {},
   "outputs": [
    {
     "data": {
      "image/png": "[encoded data removed]",
      "text/plain": [
       "<Figure size 576x360 with 1 Axes>"
      ]
     },
     "metadata": {
      "needs_background": "light"
     },
     "output_type": "display_data"
    }
   ],
   "source": [
    "# 오타니와 평균 비교\n",
    "plt.figure(figsize=(8,5))\n",
    "sns.scatterplot(data=ohtani, x='count', y='fastball_per', label='ohtani')\n",
    "#sns.scatterplot(data=snell, x='count', y='fastball_per', label='snell')\n",
    "sns.scatterplot(data=pitch_type, x='count', y='fastball_per', label='avg')\n",
    "plt.legend(bbox_to_anchor=(1.04,1), loc=\"upper left\")\n",
    "#plt.ylim(0.3, 1)\n",
    "plt.title(\"Fastball Probability by Count\")\n",
    "plt.show()"
   ]
  },
  {
   "cell_type": "markdown",
   "metadata": {},
   "source": [
    "----"
   ]
  },
  {
   "cell_type": "markdown",
   "metadata": {},
   "source": [
    "### Reference\n",
    "\n",
    "Max Marchi, *Analyzing Baseball data with R* (Chapman & Hall/CRC The R Series), 2018"
   ]
  }
 ],
 "metadata": {
  "kernelspec": {
   "display_name": "Python 3 (ipykernel)",
   "language": "python",
   "name": "python3"
  },
  "language_info": {
   "codemirror_mode": {
    "name": "ipython",
    "version": 3
   },
   "file_extension": ".py",
   "mimetype": "text/x-python",
   "name": "python",
   "nbconvert_exporter": "python",
   "pygments_lexer": "ipython3",
   "version": "3.9.7"
  }
 },
 "nbformat": 4,
 "nbformat_minor": 4
}
